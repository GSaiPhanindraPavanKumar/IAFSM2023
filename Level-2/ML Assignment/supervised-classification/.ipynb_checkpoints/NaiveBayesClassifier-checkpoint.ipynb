{
 "cells": [
  {
   "cell_type": "code",
   "execution_count": 1,
   "id": "9adef115",
   "metadata": {},
   "outputs": [],
   "source": [
    "import numpy as np\n",
    "import pandas as pd\n",
    "import matplotlib.pyplot as plt"
   ]
  },
  {
   "cell_type": "code",
   "execution_count": 2,
   "id": "d345cb45",
   "metadata": {},
   "outputs": [],
   "source": [
    "train_data = pd.read_csv('train.csv')\n",
    "\n",
    "x_train = train_data.drop(['Survived'], axis=1)\n",
    "y_train = train_data['Survived']\n",
    "\n",
    "x_train = x_train.drop(['PassengerId', 'Name', 'Ticket', 'Cabin'], axis=1)\n",
    "\n",
    "x_train['Age'].fillna(x_train['Age'].mean(), inplace=True)\n",
    "x_train['Embarked'].fillna(x_train['Embarked'].mode()[0], inplace=True)\n",
    "\n",
    "x_train = pd.get_dummies(x_train, columns=['Sex', 'Embarked'], drop_first=True)\n",
    "\n",
    "x_train = x_train.values\n",
    "y_train = y_train.values\n"
   ]
  },
  {
   "cell_type": "code",
   "execution_count": 3,
   "id": "49f73191",
   "metadata": {},
   "outputs": [],
   "source": [
    "import numpy as np\n",
    "import pandas as pd\n",
    "\n",
    "class NaiveBayes:\n",
    "    def __init__(self):\n",
    "        self.classes = None\n",
    "        self.class_prior = None\n",
    "        self.feature_means = None\n",
    "        self.feature_stds = None\n",
    "\n",
    "    def fit(self, X, y):\n",
    "        self.classes = np.unique(y)\n",
    "        num_classes = len(self.classes)\n",
    "        num_features = X.shape[1]\n",
    "\n",
    "        self.class_prior = np.zeros(num_classes)\n",
    "        self.feature_means = np.zeros((num_classes, num_features))\n",
    "        self.feature_stds = np.zeros((num_classes, num_features))\n",
    "\n",
    "        for i, c in enumerate(self.classes):\n",
    "            X_c = X[y == c]\n",
    "            self.class_prior[i] = len(X_c) / len(X)\n",
    "\n",
    "            for j in range(num_features):\n",
    "                feature_values = X_c[:, j]\n",
    "                self.feature_means[i, j] = np.mean(feature_values)\n",
    "                self.feature_stds[i, j] = np.std(feature_values)\n",
    "\n",
    "    def calculate_feature_prob(self, feature_value, feature_mean, feature_std):\n",
    "        prob = 1 / (np.sqrt(2 * np.pi) * feature_std)\n",
    "        exponent = -0.5 * ((feature_value - feature_mean) / feature_std) ** 2\n",
    "        return prob * np.exp(exponent)\n",
    "\n",
    "    def predict(self, X):\n",
    "        num_samples = X.shape[0]\n",
    "        num_classes = len(self.classes)\n",
    "        y_pred = np.zeros(num_samples)\n",
    "\n",
    "        for i in range(num_samples):\n",
    "            probabilities = np.zeros(num_classes)\n",
    "\n",
    "            for j, c in enumerate(self.classes):\n",
    "                class_prior = np.log(self.class_prior[j])\n",
    "                feature_probs = np.log(self.calculate_feature_prob(X[i], self.feature_means[j, :], self.feature_stds[j, :]))\n",
    "                probabilities[j] = class_prior + np.sum(feature_probs)\n",
    "\n",
    "            y_pred[i] = self.classes[np.argmax(probabilities)]\n",
    "\n",
    "        return y_pred\n",
    "\n",
    "\n",
    "train_data = pd.read_csv('train.csv')\n",
    "\n",
    "x_train = train_data.drop(['Survived'], axis=1)\n",
    "y_train = train_data['Survived']\n",
    "\n",
    "x_train = x_train.drop(['PassengerId', 'Name', 'Ticket', 'Cabin'], axis=1)\n",
    "\n",
    "x_train['Age'].fillna(x_train['Age'].mean(), inplace=True)\n",
    "x_train['Embarked'].fillna(x_train['Embarked'].mode()[0], inplace=True)\n",
    "\n",
    "x_train = pd.get_dummies(x_train, columns=['Sex', 'Embarked'], drop_first=True)\n",
    "\n",
    "x_train = x_train.values\n",
    "y_train = y_train.values\n",
    "\n"
   ]
  },
  {
   "cell_type": "code",
   "execution_count": 4,
   "id": "28c6c201",
   "metadata": {},
   "outputs": [],
   "source": [
    "naive_bayes = NaiveBayes()\n",
    "\n",
    "naive_bayes.fit(x_train, y_train)\n",
    "\n",
    "test_data = pd.read_csv('test.csv')\n",
    "\n",
    "x_test = test_data.drop(['PassengerId', 'Name', 'Ticket', 'Cabin'], axis=1)\n",
    "x_test['Age'].fillna(x_test['Age'].mean(), inplace=True)\n",
    "x_test['Embarked'].fillna(x_test['Embarked'].mode()[0], inplace=True)\n",
    "x_test = pd.get_dummies(x_test, columns=['Sex', 'Embarked'], drop_first=True)\n",
    "x_test = x_test.values\n",
    "\n",
    "y_pred = naive_bayes.predict(x_test)\n"
   ]
  },
  {
   "cell_type": "code",
   "execution_count": 5,
   "id": "8a322eb2",
   "metadata": {},
   "outputs": [
    {
     "name": "stdout",
     "output_type": "stream",
     "text": [
      "Accuracy: 0.916267942583732\n"
     ]
    },
    {
     "data": {
      "image/png": "[encoded data removed]",
      "text/plain": [
       "<Figure size 432x288 with 1 Axes>"
      ]
     },
     "metadata": {
      "needs_background": "light"
     },
     "output_type": "display_data"
    }
   ],
   "source": [
    "gender_submission = pd.read_csv('gender_submission.csv')\n",
    "\n",
    "y_true = gender_submission['Survived'].values\n",
    "\n",
    "accuracy = np.mean(y_pred == y_true)\n",
    "print(\"Accuracy:\", accuracy)\n",
    "\n",
    "plt.hist(y_pred, bins=[0, 0.5, 1], alpha=0.5, label='Predicted')\n",
    "plt.hist(y_true, bins=[0, 0.5, 1], alpha=0.5, label='True')\n",
    "plt.xlabel('Survived')\n",
    "plt.ylabel('Count')\n",
    "plt.title('Naive Bayes Predictions')\n",
    "plt.legend()\n",
    "plt.show()\n"
   ]
  },
  {
   "cell_type": "code",
   "execution_count": null,
   "id": "74de066b",
   "metadata": {},
   "outputs": [],
   "source": []
  }
 ],
 "metadata": {
  "kernelspec": {
   "display_name": "Python 3 (ipykernel)",
   "language": "python",
   "name": "python3"
  },
  "language_info": {
   "codemirror_mode": {
    "name": "ipython",
    "version": 3
   },
   "file_extension": ".py",
   "mimetype": "text/x-python",
   "name": "python",
   "nbconvert_exporter": "python",
   "pygments_lexer": "ipython3",
   "version": "3.9.7"
  }
 },
 "nbformat": 4,
 "nbformat_minor": 5
}
